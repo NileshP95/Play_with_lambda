{
 "cells": [
  {
   "cell_type": "markdown",
   "id": "9e536d4c",
   "metadata": {},
   "source": [
    "# lambda function\n",
    "## Write a Python program to create a lambda function that adds 25 to a given number passed in as an argument.\n",
    "\n"
   ]
  },
  {
   "cell_type": "code",
   "execution_count": 7,
   "id": "b1c87680",
   "metadata": {},
   "outputs": [],
   "source": [
    "Add_25 = lambda num : num+25"
   ]
  },
  {
   "cell_type": "code",
   "execution_count": 8,
   "id": "558fa714",
   "metadata": {},
   "outputs": [
    {
     "data": {
      "text/plain": [
       "35"
      ]
     },
     "execution_count": 8,
     "metadata": {},
     "output_type": "execute_result"
    }
   ],
   "source": [
    "Add_25(10)"
   ]
  },
  {
   "cell_type": "code",
   "execution_count": null,
   "id": "0a65746c",
   "metadata": {},
   "outputs": [],
   "source": []
  }
 ],
 "metadata": {
  "kernelspec": {
   "display_name": "Python 3 (ipykernel)",
   "language": "python",
   "name": "python3"
  },
  "language_info": {
   "codemirror_mode": {
    "name": "ipython",
    "version": 3
   },
   "file_extension": ".py",
   "mimetype": "text/x-python",
   "name": "python",
   "nbconvert_exporter": "python",
   "pygments_lexer": "ipython3",
   "version": "3.8.10"
  }
 },
 "nbformat": 4,
 "nbformat_minor": 5
}
